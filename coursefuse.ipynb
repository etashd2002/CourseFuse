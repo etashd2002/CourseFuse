{
 "cells": [
  {
   "cell_type": "code",
   "execution_count": 1,
   "metadata": {},
   "outputs": [],
   "source": [
    "import cv2\n",
    "img = cv2.imread(\"QA MU Portion edited.png\")\n",
    "img = cv2.resize(img,(1200,1600))\n",
    "cv2.imshow(\"image\", img)\n",
    "cv2.waitKey(0)\n",
    "import pytesseract\n",
    "pytesseract.pytesseract.tesseract_cmd=\"C:/Program Files/Tesseract-OCR/tesseract.exe\"\n",
    "text = pytesseract.image_to_string(img)\n",
    "print(text)\n"
   ]
  },
  {
   "cell_type": "code",
   "execution_count": 3,
   "metadata": {},
   "outputs": [
    {
     "name": "stderr",
     "output_type": "stream",
     "text": [
      "c:\\Users\\etash\\AppData\\Local\\Programs\\Python\\Python37\\lib\\site-packages\\gensim\\utils.py:1212: UserWarning: detected Windows; aliasing chunkize to chunkize_serial\n",
      "  warnings.warn(\"detected Windows; aliasing chunkize to chunkize_serial\")\n"
     ]
    }
   ],
   "source": [
    "from gensim.summarization.summarizer import summarize\n",
    "from gensim.summarization import keywords"
   ]
  },
  {
   "cell_type": "code",
   "execution_count": 4,
   "metadata": {},
   "outputs": [
    {
     "name": "stdout",
     "output_type": "stream",
     "text": [
      "sample\n",
      "regression\n",
      "data\n",
      "hypotheses\n",
      "tests\n",
      "errors\n",
      "statistical\n",
      "model\n",
      "introduction\n",
      "method\n",
      "term\n",
      "neyman\n",
      "graphic\n",
      "point estimation\n",
      "coefficients\n",
      "mape\n",
      "content\n",
      "diagrammatic\n"
     ]
    }
   ],
   "source": [
    "print(keywords(text, words=20, lemmatize=True))"
   ]
  },
  {
   "cell_type": "code",
   "execution_count": 1,
   "metadata": {},
   "outputs": [
    {
     "name": "stdout",
     "output_type": "stream",
     "text": [
      "Collecting neo4j\n",
      "  Downloading neo4j-5.7.0.tar.gz (176 kB)\n",
      "     ------------------------------------ 176.3/176.3 kB 818.2 kB/s eta 0:00:00\n",
      "  Installing build dependencies: started\n",
      "  Installing build dependencies: finished with status 'done'\n",
      "  Getting requirements to build wheel: started\n",
      "  Getting requirements to build wheel: finished with status 'done'\n",
      "  Installing backend dependencies: started\n",
      "  Installing backend dependencies: finished with status 'done'\n",
      "  Preparing metadata (pyproject.toml): started\n",
      "  Preparing metadata (pyproject.toml): finished with status 'done'\n",
      "Requirement already satisfied: pytz in c:\\users\\etash\\appdata\\local\\programs\\python\\python37\\lib\\site-packages (from neo4j) (2023.3)\n",
      "Building wheels for collected packages: neo4j\n",
      "  Building wheel for neo4j (pyproject.toml): started\n",
      "  Building wheel for neo4j (pyproject.toml): finished with status 'done'\n",
      "  Created wheel for neo4j: filename=neo4j-5.7.0-py3-none-any.whl size=243969 sha256=d9914d42437c0e89e86d7244f9701b1c3e2b4839f2cd04bee072880d2358ea13\n",
      "  Stored in directory: c:\\users\\etash\\appdata\\local\\pip\\cache\\wheels\\36\\61\\b2\\167ef81785cb8979f40489177d3e6868713b9bd237142511c5\n",
      "Successfully built neo4j\n",
      "Installing collected packages: neo4j\n",
      "Successfully installed neo4j-5.7.0\n",
      "Note: you may need to restart the kernel to use updated packages.\n"
     ]
    }
   ],
   "source": [
    "pip install neo4j"
   ]
  },
  {
   "cell_type": "code",
   "execution_count": 5,
   "metadata": {},
   "outputs": [
    {
     "name": "stdout",
     "output_type": "stream",
     "text": [
      "Introduction to Artificial Intelligence\n",
      "\n",
      "1.1 | Introduction, History of Artificial Intelligence, Intelligent Systems\n",
      "Categorization of Intelligent System, Components of AI Program,\n",
      "Foundations of AI, Sub-areas of AI, Applications of AI, Current trends\n",
      "in AI\n",
      "Intelligent Agents\n",
      "\n",
      "2.1 | Agents and Environments, The concept of rationality, The nature of\n",
      "environment, The structure of Agents. Types of Agents, Learning\n",
      "Agent.\n",
      "\n",
      "2.2 | Solving problem by Searching: Problem Solving Agent, Formulating\n",
      "Problems, Example Problem:\n",
      "\n",
      "Problem solving\n",
      "\n",
      "3.1 | Uninformed Search Methods: Breadth First Search (BFS), Depth First\n",
      "Search (DFS), Depth Limited Search, Depth First Iterative Deepening\n",
      "(FID), Informed Search Methods: Greedy best first Search, A*\n",
      "Search, Memory bounded heuristic Search.\n",
      "\n",
      "3.2 | Local Search Algorithms and Optimization Problems: Hill climbing\n",
      "search Simulated annealing, Genetic algorithms.\n",
      "\n",
      "3.3 Adversarial Search: Game Playing, Min-Max Search, Alpha Beta\n",
      "\n",
      "Pruning\n",
      "\n",
      "Knowledge and Reasoning\n",
      "\n",
      "Knowledge based Agents, Brief Overview of propositional logic, First\n",
      "Order Logic yntax and Semantic, Inference in FOL, Forward\n",
      "chaining, backward Chaining.\n",
      "\n",
      "Knowledge Engineering in First-Order Logic, Unification, Resolution\n",
      "\n",
      "Uncertain Knowledge and Reasoning: Uncertainty, Represen\n",
      "knowledge in an uncertain domain, The semanti\n",
      "Simple Inference in belief network\n",
      "\n",
      "ng\n",
      "of belief network,\n",
      "\n",
      "Planning and Learning\n",
      "\n",
      "The planning problem, Planning with state space search, Partial order\n",
      "planning, Hierarchical planning, Conditional Planning.\n",
      "\n",
      "N\n",
      "\n",
      "Learning: Forms of Learning. Theory of Learning, PAC learning\n",
      "Introduction to statistical learning (Introduction only)\n",
      "\n",
      "Introduction to reinforcement learning: Learning from Rewards,\n",
      "Passive Reinforcement Learning. Active reinforcement Learning\n",
      "\n",
      "AI Applications\n",
      "\n",
      "A. Introduction to NLP- Language models, Grammars, Parsing\n",
      "\n",
      "B_ Robotics - Robots. Robot hardware, Problems Robot can\n",
      "solve\n",
      "\n",
      "C. Al applications in Healthcare, Retail, Banking\n",
      "\n",
      "\n"
     ]
    }
   ],
   "source": [
    "import cv2\n",
    "img2 = cv2.imread(\"AI MU Portion.png\")\n",
    "img2 = cv2.resize(img2,(1000,1000))\n",
    "cv2.imshow(\"image\", img2)\n",
    "cv2.waitKey(0)\n",
    "import pytesseract\n",
    "pytesseract.pytesseract.tesseract_cmd=\"C:/Program Files/Tesseract-OCR/tesseract.exe\"\n",
    "text2 = pytesseract.image_to_string(img2)\n",
    "print(text2)"
   ]
  },
  {
   "cell_type": "code",
   "execution_count": 6,
   "metadata": {},
   "outputs": [],
   "source": [
    "from gensim.summarization.summarizer import summarize\n",
    "from gensim.summarization import keywords"
   ]
  },
  {
   "cell_type": "code",
   "execution_count": 7,
   "metadata": {},
   "outputs": [
    {
     "name": "stdout",
     "output_type": "stream",
     "text": [
      "search\n",
      "knowledge\n",
      "learning\n",
      "problems\n",
      "agent\n",
      "planning\n",
      "logic\n",
      "retail\n",
      "chaining\n",
      "depth\n",
      "simple\n",
      "inference\n",
      "uncertain\n",
      "methods\n",
      "intelligent\n",
      "language\n",
      "grammars\n",
      "models\n",
      "order\n",
      "algorithms\n",
      "reinforcement\n",
      "deepening\n",
      "forward\n",
      "greedy\n",
      "current trends\n",
      "sub\n",
      "program\n",
      "foundations\n"
     ]
    }
   ],
   "source": [
    "print(keywords(text2, words=30, lemmatize=True))"
   ]
  }
 ],
 "metadata": {
  "kernelspec": {
   "display_name": "Python 3",
   "language": "python",
   "name": "python3"
  },
  "language_info": {
   "codemirror_mode": {
    "name": "ipython",
    "version": 3
   },
   "file_extension": ".py",
   "mimetype": "text/x-python",
   "name": "python",
   "nbconvert_exporter": "python",
   "pygments_lexer": "ipython3",
   "version": "3.7.8"
  },
  "orig_nbformat": 4,
  "vscode": {
   "interpreter": {
    "hash": "c2c4881cffeb8dda6a596a680a9c6162fbb5d0101cfd78753ac11d7cf5421372"
   }
  }
 },
 "nbformat": 4,
 "nbformat_minor": 2
}
