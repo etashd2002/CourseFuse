{
 "cells": [
  {
   "cell_type": "code",
   "execution_count": 1,
   "metadata": {},
   "outputs": [],
   "source": [
    "from neo4j import GraphDatabase\n",
    "uri1      = \"neo4j://localhost:7687\" # in Neo4j Desktop\n",
    "                              # custom URL for Sandbox or Aura\n",
    "user1     = \"neo4j\"            # your user name \n",
    "                              # default is always \"neo4j\" \n",
    "                              # unless you have changed it. \n",
    "password1 = \"Sed@261510040202\"\n",
    "driver1 = GraphDatabase.driver(uri=uri1,auth=(uri1,password1),database='etash')\n",
    "\n",
    "uri2      = \"neo4j://localhost:7687\" # in Neo4j Desktop\n",
    "                              # custom URL for Sandbox or Aura\n",
    "user2     = \"neo4j\"            # your user name \n",
    "                              # default is always \"neo4j\" \n",
    "                              # unless you have changed it. \n",
    "password2 = \"Sed@261510040202\"\n",
    "driver2 = GraphDatabase.driver(uri=uri2,auth=(uri2,password2),database='etash')"
   ]
  },
  {
   "cell_type": "code",
   "execution_count": 2,
   "metadata": {},
   "outputs": [],
   "source": [
    "import nxneo4j as nx"
   ]
  },
  {
   "cell_type": "code",
   "execution_count": 3,
   "metadata": {},
   "outputs": [],
   "source": [
    "G1 = nx.Graph(driver1)\n",
    "G2 = nx.Graph(driver2)"
   ]
  },
  {
   "cell_type": "code",
   "execution_count": 4,
   "metadata": {},
   "outputs": [],
   "source": [
    "G1.delete_all()  #This will delete all the data, be careful\n",
    "G2.delete_all()  #This will delete all the data, be careful"
   ]
  },
  {
   "cell_type": "code",
   "execution_count": 5,
   "metadata": {},
   "outputs": [],
   "source": [
    "G1.relationship_type = 'has'\n",
    "G1.add_node('Software Engineering')\n",
    "G1.add_node('Module 1')\n",
    "G1.add_node('Module 2')\n",
    "G1.add_node('Module 3')\n",
    "G1.add_node('Module 4')\n",
    "G1.add_node('Module 5')\n",
    "G1.add_node('Module 6')\n",
    "\n",
    "\n",
    "G1.add_edge('Software Engineering','Module 1')\n",
    "G1.add_edge('Software Engineering','Module 2')\n",
    "G1.add_edge('Software Engineering','Module 3')\n",
    "G1.add_edge('Software Engineering','Module 4')\n",
    "G1.add_edge('Software Engineering','Module 5')\n",
    "G1.add_edge('Software Engineering','Module 6')\n",
    "\n",
    "#Mod 1\n",
    "G1.add_edge('Module 1','The Capability Maturity Model')\n",
    "G1.add_edge('Module 1','Prescriptive Process Models')\n",
    "G1.add_edge('Module 1','Agile Process Model')\n",
    "\n",
    "#Mod 2\n",
    "G1.add_edge('Module 2','Requirement Engineering')\n",
    "G1.add_edge('Module 2','Software Requirement Specification')\n",
    "\n",
    "#Mod 3\n",
    "G1.add_edge('Module 3','Project Scheduling & Tracking')\n",
    "G1.add_edge('Module 3','Software Project Estimation')\n",
    "\n",
    "#Mod 4\n",
    "G1.add_edge('Module 4','Design Principles')\n",
    "G1.add_edge('Module 4','Architectural Design')\n",
    "\n",
    "#Mod 5\n",
    "G1.add_edge('Module 5','Testing Techniques')\n",
    "G1.add_edge('Module 5','Re-Engineering')\n",
    "G1.add_edge('Module 5','Software Testing')\n",
    "\n",
    "#Mod 6\n",
    "G1.add_edge('Module 6','Risk Analysis & Management')\n",
    "G1.add_edge('Module 6','Formal Technical Reviews')\n",
    "G1.add_edge('Module 6','Software Configuration Management')"
   ]
  },
  {
   "cell_type": "code",
   "execution_count": 6,
   "metadata": {},
   "outputs": [
    {
     "data": {
      "text/plain": [
       "[('Software Engineering', 'Module 6', {}),\n",
       " ('Software Engineering', 'Module 5', {}),\n",
       " ('Software Engineering', 'Module 4', {}),\n",
       " ('Software Engineering', 'Module 3', {}),\n",
       " ('Software Engineering', 'Module 2', {}),\n",
       " ('Software Engineering', 'Module 1', {}),\n",
       " ('Module 1', 'Agile Process Model', {}),\n",
       " ('Module 1', 'Prescriptive Process Models', {}),\n",
       " ('Module 1', 'The Capability Maturity Model', {}),\n",
       " ('Module 2', 'Software Requirement Specification', {}),\n",
       " ('Module 2', 'Requirement Engineering', {}),\n",
       " ('Module 3', 'Software Project Estimation', {}),\n",
       " ('Module 3', 'Project Scheduling & Tracking', {}),\n",
       " ('Module 4', 'Architectural Design', {}),\n",
       " ('Module 4', 'Design Principles', {}),\n",
       " ('Module 5', 'Software Testing', {}),\n",
       " ('Module 5', 'Re-Engineering', {}),\n",
       " ('Module 5', 'Testing Techniques', {}),\n",
       " ('Module 6', 'Software Configuration Management', {}),\n",
       " ('Module 6', 'Formal Technical Reviews', {}),\n",
       " ('Module 6', 'Risk Analysis & Management', {})]"
      ]
     },
     "execution_count": 6,
     "metadata": {},
     "output_type": "execute_result"
    }
   ],
   "source": [
    "list(G1.edges(data=True))"
   ]
  },
  {
   "cell_type": "code",
   "execution_count": 7,
   "metadata": {},
   "outputs": [],
   "source": [
    "G2.relationship_type = 'has'\n",
    "G2.add_node('Project Management')\n",
    "G2.add_node('Module 1')\n",
    "G2.add_node('Module 2')\n",
    "G2.add_node('Module 3')\n",
    "G2.add_node('Module 4')\n",
    "G2.add_node('Module 5')\n",
    "G2.add_node('Module 6')\n",
    "\n",
    "\n",
    "G2.add_edge('Project Management','Module 1')\n",
    "G2.add_edge('Project Management','Module 2')\n",
    "G2.add_edge('Project Management','Module 3')\n",
    "G2.add_edge('Project Management','Module 4')\n",
    "G2.add_edge('Project Management','Module 5')\n",
    "G2.add_edge('Project Management','Module 6')\n",
    "\n",
    "#Mod 1.\n",
    "G2.add_edge('Module 1','Project Life Cycles')\n",
    "G2.add_edge('Module 1','Role of Project Manager')\n",
    "\n",
    "#Mod 2\n",
    "G2.add_edge('Module 2','Project Selection Models')\n",
    "G2.add_edge('Module 2','Project Portfolio Process')\n",
    "G2.add_edge('Module 2','Effective Project Team')\n",
    "G2.add_edge('Module 2','Stages of Team Development & Growth')\n",
    "\n",
    "#Mod 3\n",
    "G2.add_edge('Module 3','Work Breakdown Structure')\n",
    "G2.add_edge('Module 3','Introduction to Project Management Information System (PIMS)')\n",
    "G2.add_edge('Module 3','Networking and Scheduling Techniques')\n",
    "\n",
    "#Mod 4\n",
    "G2.add_edge('Module 4','Resource Loading and Leveling')\n",
    "G2.add_edge('Module 4','Risk Management in Projects')\n",
    "\n",
    "#Mod 5\n",
    "G2.add_edge('Module 5','Planning Monitoring and Controlling Cycle')\n",
    "G2.add_edge('Module 5','Monitoring and Controlling Projects')\n",
    "G2.add_edge('Module 5','Project Contracting')\n",
    "\n",
    "#Mod 6\n",
    "G2.add_edge('Module 6','Project Leadership and Ethics')\n",
    "G2.add_edge('Module 6','Closing the Projects')"
   ]
  },
  {
   "cell_type": "code",
   "execution_count": 8,
   "metadata": {},
   "outputs": [
    {
     "data": {
      "text/plain": [
       "[('Software Engineering', 'Module 6', {}),\n",
       " ('Software Engineering', 'Module 5', {}),\n",
       " ('Software Engineering', 'Module 4', {}),\n",
       " ('Software Engineering', 'Module 3', {}),\n",
       " ('Software Engineering', 'Module 2', {}),\n",
       " ('Software Engineering', 'Module 1', {}),\n",
       " ('Module 1', 'Role of Project Manager', {}),\n",
       " ('Module 1', 'Project Life Cycles', {}),\n",
       " ('Module 1', 'Agile Process Model', {}),\n",
       " ('Module 1', 'Prescriptive Process Models', {}),\n",
       " ('Module 1', 'The Capability Maturity Model', {}),\n",
       " ('Module 2', 'Stages of Team Development & Growth', {}),\n",
       " ('Module 2', 'Effective Project Team', {}),\n",
       " ('Module 2', 'Project Portfolio Process', {}),\n",
       " ('Module 2', 'Project Selection Models', {}),\n",
       " ('Module 2', 'Software Requirement Specification', {}),\n",
       " ('Module 2', 'Requirement Engineering', {}),\n",
       " ('Module 3', 'Networking and Scheduling Techniques', {}),\n",
       " ('Module 3',\n",
       "  'Introduction to Project Management Information System (PIMS)',\n",
       "  {}),\n",
       " ('Module 3', 'Work Breakdown Structure', {}),\n",
       " ('Module 3', 'Software Project Estimation', {}),\n",
       " ('Module 3', 'Project Scheduling & Tracking', {}),\n",
       " ('Module 4', 'Risk Management in Projects', {}),\n",
       " ('Module 4', 'Resource Loading and Leveling', {}),\n",
       " ('Module 4', 'Architectural Design', {}),\n",
       " ('Module 4', 'Design Principles', {}),\n",
       " ('Module 5', 'Project Contracting', {}),\n",
       " ('Module 5', 'Monitoring and Controlling Projects', {}),\n",
       " ('Module 5', 'Planning Monitoring and Controlling Cycle', {}),\n",
       " ('Module 5', 'Software Testing', {}),\n",
       " ('Module 5', 'Re-Engineering', {}),\n",
       " ('Module 5', 'Testing Techniques', {}),\n",
       " ('Module 6', 'Closing the Projects', {}),\n",
       " ('Module 6', 'Project Leadership and Ethics', {}),\n",
       " ('Module 6', 'Software Configuration Management', {}),\n",
       " ('Module 6', 'Formal Technical Reviews', {}),\n",
       " ('Module 6', 'Risk Analysis & Management', {}),\n",
       " ('Project Management', 'Module 6', {}),\n",
       " ('Project Management', 'Module 5', {}),\n",
       " ('Project Management', 'Module 4', {}),\n",
       " ('Project Management', 'Module 3', {}),\n",
       " ('Project Management', 'Module 2', {}),\n",
       " ('Project Management', 'Module 1', {})]"
      ]
     },
     "execution_count": 8,
     "metadata": {},
     "output_type": "execute_result"
    }
   ],
   "source": [
    "list(G2.edges(data=True))"
   ]
  },
  {
   "cell_type": "code",
   "execution_count": 9,
   "metadata": {},
   "outputs": [
    {
     "data": {
      "text/plain": [
       "{'direction': 'UNDIRECTED',\n",
       " 'node_label': 'Node',\n",
       " 'relationship_type': 'has',\n",
       " 'identifier_property': 'id'}"
      ]
     },
     "execution_count": 9,
     "metadata": {},
     "output_type": "execute_result"
    }
   ],
   "source": [
    "G1.base_params()"
   ]
  },
  {
   "cell_type": "code",
   "execution_count": 10,
   "metadata": {},
   "outputs": [
    {
     "data": {
      "text/plain": [
       "{'direction': 'UNDIRECTED',\n",
       " 'node_label': 'Node',\n",
       " 'relationship_type': 'has',\n",
       " 'identifier_property': 'id'}"
      ]
     },
     "execution_count": 10,
     "metadata": {},
     "output_type": "execute_result"
    }
   ],
   "source": [
    "G2.base_params()"
   ]
  },
  {
   "cell_type": "code",
   "execution_count": 11,
   "metadata": {},
   "outputs": [
    {
     "data": {
      "text/html": [
       "\n",
       "        <iframe\n",
       "            width=\"100%\"\n",
       "            height=\"500\"\n",
       "            src=\"vis.html\"\n",
       "            frameborder=\"0\"\n",
       "            allowfullscreen\n",
       "            \n",
       "        ></iframe>\n",
       "        "
      ],
      "text/plain": [
       "<IPython.lib.display.IFrame at 0x1f43f05a948>"
      ]
     },
     "execution_count": 11,
     "metadata": {},
     "output_type": "execute_result"
    }
   ],
   "source": [
    "nx.draw(G1)"
   ]
  },
  {
   "cell_type": "code",
   "execution_count": 12,
   "metadata": {},
   "outputs": [
    {
     "data": {
      "text/html": [
       "\n",
       "        <iframe\n",
       "            width=\"100%\"\n",
       "            height=\"500\"\n",
       "            src=\"vis.html\"\n",
       "            frameborder=\"0\"\n",
       "            allowfullscreen\n",
       "            \n",
       "        ></iframe>\n",
       "        "
      ],
      "text/plain": [
       "<IPython.lib.display.IFrame at 0x1f43f057f08>"
      ]
     },
     "execution_count": 12,
     "metadata": {},
     "output_type": "execute_result"
    }
   ],
   "source": [
    "nx.draw(G2)"
   ]
  }
 ],
 "metadata": {
  "kernelspec": {
   "display_name": "Python 3",
   "language": "python",
   "name": "python3"
  },
  "language_info": {
   "codemirror_mode": {
    "name": "ipython",
    "version": 3
   },
   "file_extension": ".py",
   "mimetype": "text/x-python",
   "name": "python",
   "nbconvert_exporter": "python",
   "pygments_lexer": "ipython3",
   "version": "3.7.8"
  },
  "orig_nbformat": 4
 },
 "nbformat": 4,
 "nbformat_minor": 2
}
